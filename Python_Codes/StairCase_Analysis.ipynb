{
 "cells": [
  {
   "cell_type": "code",
   "execution_count": 2,
   "id": "a6a9768b-735e-40cf-aa29-2058e0baaeb9",
   "metadata": {},
   "outputs": [],
   "source": [
    "import numpy as np\n",
    "import matplotlib.pyplot as plt\n",
    "import pandas as pd\n",
    "import seaborn as sns\n",
    "import json\n",
    "import os"
   ]
  },
  {
   "cell_type": "code",
   "execution_count": 4,
   "id": "d28f2a4a-5866-4702-8d31-a5045b7ac54a",
   "metadata": {},
   "outputs": [],
   "source": [
    "path = \"H:/Project/Adaptive-Touch-Testing-System/ATTS_Data/\"\n",
    "# path = \"C:/Users/ObiPC/OneDrive/Projects/Adaptive-Touch-Testing-System/ATTS_Data/\""
   ]
  },
  {
   "cell_type": "code",
   "execution_count": 12,
   "id": "35a73e26-0c6c-4fea-b27f-df0a54a1d8b8",
   "metadata": {},
   "outputs": [
    {
     "data": {
      "text/html": [
       "<div>\n",
       "<style scoped>\n",
       "    .dataframe tbody tr th:only-of-type {\n",
       "        vertical-align: middle;\n",
       "    }\n",
       "\n",
       "    .dataframe tbody tr th {\n",
       "        vertical-align: top;\n",
       "    }\n",
       "\n",
       "    .dataframe thead th {\n",
       "        text-align: right;\n",
       "    }\n",
       "</style>\n",
       "<table border=\"1\" class=\"dataframe\">\n",
       "  <thead>\n",
       "    <tr style=\"text-align: right;\">\n",
       "      <th></th>\n",
       "      <th>user_response</th>\n",
       "      <th>trialNumber</th>\n",
       "      <th>standard_stim</th>\n",
       "      <th>comparison_stim</th>\n",
       "      <th>standard_freq</th>\n",
       "      <th>comp_freq</th>\n",
       "      <th>correct</th>\n",
       "    </tr>\n",
       "  </thead>\n",
       "  <tbody>\n",
       "    <tr>\n",
       "      <th>0</th>\n",
       "      <td>1</td>\n",
       "      <td>0</td>\n",
       "      <td>1</td>\n",
       "      <td>400</td>\n",
       "      <td>300</td>\n",
       "      <td>400</td>\n",
       "      <td>Correct</td>\n",
       "    </tr>\n",
       "    <tr>\n",
       "      <th>1</th>\n",
       "      <td>0</td>\n",
       "      <td>1</td>\n",
       "      <td>0</td>\n",
       "      <td>390</td>\n",
       "      <td>300</td>\n",
       "      <td>390</td>\n",
       "      <td>Correct</td>\n",
       "    </tr>\n",
       "    <tr>\n",
       "      <th>2</th>\n",
       "      <td>1</td>\n",
       "      <td>2</td>\n",
       "      <td>1</td>\n",
       "      <td>80</td>\n",
       "      <td>30</td>\n",
       "      <td>80</td>\n",
       "      <td>Correct</td>\n",
       "    </tr>\n",
       "    <tr>\n",
       "      <th>3</th>\n",
       "      <td>0</td>\n",
       "      <td>3</td>\n",
       "      <td>0</td>\n",
       "      <td>380</td>\n",
       "      <td>300</td>\n",
       "      <td>380</td>\n",
       "      <td>Correct</td>\n",
       "    </tr>\n",
       "    <tr>\n",
       "      <th>4</th>\n",
       "      <td>0</td>\n",
       "      <td>4</td>\n",
       "      <td>1</td>\n",
       "      <td>85</td>\n",
       "      <td>30</td>\n",
       "      <td>85</td>\n",
       "      <td>Wrong</td>\n",
       "    </tr>\n",
       "  </tbody>\n",
       "</table>\n",
       "</div>"
      ],
      "text/plain": [
       "   user_response  trialNumber  standard_stim  comparison_stim  standard_freq  \\\n",
       "0              1            0              1              400            300   \n",
       "1              0            1              0              390            300   \n",
       "2              1            2              1               80             30   \n",
       "3              0            3              0              380            300   \n",
       "4              0            4              1               85             30   \n",
       "\n",
       "   comp_freq  correct  \n",
       "0        400  Correct  \n",
       "1        390  Correct  \n",
       "2         80  Correct  \n",
       "3        380  Correct  \n",
       "4         85    Wrong  "
      ]
     },
     "execution_count": 12,
     "metadata": {},
     "output_type": "execute_result"
    }
   ],
   "source": [
    "fileName = \"pilot_x3_standard_300comparisonFrequency359_166.94_Trial_50_.json\"\n",
    "\n",
    "data = pd.read_json(path + fileName)\n",
    "\n",
    "data.head()"
   ]
  },
  {
   "cell_type": "code",
   "execution_count": 21,
   "id": "6a1f6916-0e22-43df-aa5b-0f1aa78f5088",
   "metadata": {},
   "outputs": [
    {
     "data": {
      "text/plain": [
       "<matplotlib.legend.Legend at 0x1e618d10040>"
      ]
     },
     "execution_count": 21,
     "metadata": {},
     "output_type": "execute_result"
    },
    {
     "data": {
      "image/png": "[encoded data removed]",
      "text/plain": [
       "<Figure size 432x288 with 1 Axes>"
      ]
     },
     "metadata": {
      "needs_background": "light"
     },
     "output_type": "display_data"
    },
    {
     "data": {
      "image/png": "[encoded data removed]",
      "text/plain": [
       "<Figure size 432x288 with 1 Axes>"
      ]
     },
     "metadata": {
      "needs_background": "light"
     },
     "output_type": "display_data"
    }
   ],
   "source": [
    "plt.figure()\n",
    "dataMask = (data['standard_freq'] == 30)\n",
    "sns.lineplot(x='trialNumber', y='comp_freq', data=data[dataMask],color='r',marker='o')\n",
    "plt.plot([0,44],[30,30],'k--')\n",
    "plt.legend(['Response','Standard'])\n",
    "\n",
    "plt.figure()\n",
    "dataMask = (data['standard_freq'] == 300)\n",
    "sns.lineplot(x='trialNumber', y='comp_freq', data=data[dataMask],color='r',marker='o')\n",
    "plt.plot([0,44],[300,300],'k--')\n",
    "plt.legend(['Response','Standard'])"
   ]
  },
  {
   "cell_type": "code",
   "execution_count": null,
   "id": "33d91529-3be0-496a-a0ad-6134f39a7ba5",
   "metadata": {},
   "outputs": [],
   "source": []
  },
  {
   "cell_type": "code",
   "execution_count": null,
   "id": "7e3b14e9-5a79-4336-af95-cc56d5ba9fb6",
   "metadata": {},
   "outputs": [],
   "source": []
  },
  {
   "cell_type": "code",
   "execution_count": null,
   "id": "7989a77c-c39b-4abf-96f3-525389ad9a2e",
   "metadata": {},
   "outputs": [],
   "source": []
  },
  {
   "cell_type": "code",
   "execution_count": null,
   "id": "f7a04172-2899-424d-acd9-ff8615d1fde8",
   "metadata": {},
   "outputs": [],
   "source": []
  }
 ],
 "metadata": {
  "kernelspec": {
   "display_name": "Python 3 (ipykernel)",
   "language": "python",
   "name": "python3"
  },
  "language_info": {
   "codemirror_mode": {
    "name": "ipython",
    "version": 3
   },
   "file_extension": ".py",
   "mimetype": "text/x-python",
   "name": "python",
   "nbconvert_exporter": "python",
   "pygments_lexer": "ipython3",
   "version": "3.8.5"
  }
 },
 "nbformat": 4,
 "nbformat_minor": 5
}
