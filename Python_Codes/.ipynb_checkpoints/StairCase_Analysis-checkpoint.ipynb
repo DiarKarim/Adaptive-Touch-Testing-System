{
 "cells": [
  {
   "cell_type": "code",
   "execution_count": 26,
   "id": "a6a9768b-735e-40cf-aa29-2058e0baaeb9",
   "metadata": {},
   "outputs": [],
   "source": [
    "import numpy as np\n",
    "import matplotlib.pyplot as plt\n",
    "import pandas as pd\n",
    "import seaborn as sns\n",
    "import json\n",
    "import os"
   ]
  },
  {
   "cell_type": "code",
   "execution_count": 27,
   "id": "d28f2a4a-5866-4702-8d31-a5045b7ac54a",
   "metadata": {},
   "outputs": [],
   "source": [
    "path = \"H:/Project/Adaptive-Touch-Testing-System/ATTS_Data/\""
   ]
  },
  {
   "cell_type": "code",
   "execution_count": 43,
   "id": "96bed94c-dc0b-45bf-bde5-9a56d1c21db6",
   "metadata": {},
   "outputs": [
    {
     "data": {
      "text/plain": [
       "[<matplotlib.lines.Line2D at 0x2014ae06220>]"
      ]
     },
     "execution_count": 43,
     "metadata": {},
     "output_type": "execute_result"
    },
    {
     "data": {
      "image/png": "[encoded data removed]",
      "text/plain": [
       "<Figure size 432x288 with 1 Axes>"
      ]
     },
     "metadata": {
      "needs_background": "light"
     },
     "output_type": "display_data"
    }
   ],
   "source": [
    "fileNames = os.listdir(path)\n",
    "# data = pd.read_json(path + fileName)\n",
    "\n",
    "df = None \n",
    "answers = []\n",
    "compFreq = []\n",
    "\n",
    "# Loop through file names and load them and extract correct vs wrong answers out into an integer array called \"answers\"\n",
    "for fln in fileNames: \n",
    "    f = open(path + fln)\n",
    "    data = json.load(f)\n",
    "    outputText = data.get('correct')\n",
    "    compFreq.append(int(data.get('comparison_stim')))\n",
    "    \n",
    "    if 'Cor' in outputText:\n",
    "        answers.append(1)\n",
    "    else:\n",
    "        answers.append(0)\n",
    "\n",
    "        \n",
    "plt.plot(compFreq,'r-o')"
   ]
  },
  {
   "cell_type": "code",
   "execution_count": 58,
   "id": "3c7b4d10-d764-401b-9c4a-eff74823e16b",
   "metadata": {},
   "outputs": [
    {
     "data": {
      "text/plain": [
       "'_18_.jso'"
      ]
     },
     "execution_count": 58,
     "metadata": {},
     "output_type": "execute_result"
    }
   ],
   "source": [
    "fileNames[1][-1-8:-1]"
   ]
  },
  {
   "cell_type": "code",
   "execution_count": 51,
   "id": "7125add8-30a6-4adc-b2fa-f09c31688aa6",
   "metadata": {},
   "outputs": [
    {
     "data": {
      "text/plain": [
       "{'user_response': '0',\n",
       " 'correct': 'Correct',\n",
       " 'standard_stim': '0',\n",
       " 'comparison_stim': '44'}"
      ]
     },
     "execution_count": 51,
     "metadata": {},
     "output_type": "execute_result"
    }
   ],
   "source": [
    "data"
   ]
  },
  {
   "cell_type": "code",
   "execution_count": null,
   "id": "f7a04172-2899-424d-acd9-ff8615d1fde8",
   "metadata": {},
   "outputs": [],
   "source": []
  }
 ],
 "metadata": {
  "kernelspec": {
   "display_name": "Python 3 (ipykernel)",
   "language": "python",
   "name": "python3"
  },
  "language_info": {
   "codemirror_mode": {
    "name": "ipython",
    "version": 3
   },
   "file_extension": ".py",
   "mimetype": "text/x-python",
   "name": "python",
   "nbconvert_exporter": "python",
   "pygments_lexer": "ipython3",
   "version": "3.8.5"
  }
 },
 "nbformat": 4,
 "nbformat_minor": 5
}
